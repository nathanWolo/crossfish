{
 "cells": [
  {
   "cell_type": "code",
   "execution_count": 1,
   "metadata": {},
   "outputs": [],
   "source": [
    "import numpy as np\n",
    "from time import perf_counter, sleep\n",
    "import matplotlib.pyplot as plt\n",
    "from tqdm import tqdm\n",
    "\n",
    "from board import board_obj\n",
    "from operations import ops\n",
    "import vis_tools\n",
    "from IPython.display import clear_output\n",
    "import time\n",
    "import copy\n",
    "import math\n",
    "import scipy.stats as stats"
   ]
  },
  {
   "cell_type": "code",
   "execution_count": 60,
   "metadata": {},
   "outputs": [],
   "source": [
    "def faceoff_sequential(agent1, agent2, ngames=100, visualize=False):\n",
    "    ''' SLOW BUT RELIABLE, TO BE USED WHEN THE RESULTS FROM FACEOFF_PARALLEL ARE SUSPICIOUS '''\n",
    "\n",
    "    win_counter = 0 # quick integer check to see whether line bot wins more than loses\n",
    "    loss_counter = 0\n",
    "    draw_counter = 0\n",
    "\n",
    "    for j in tqdm(range(ngames)):\n",
    "        my_board = board_obj()\n",
    "        #make first 4 moves randomly\n",
    "        for i in range(4):\n",
    "            legal_moves = ops.get_valid_moves(my_board)\n",
    "            move = legal_moves[np.random.choice(len(legal_moves))]\n",
    "            ops.make_move(my_board, move)\n",
    "\n",
    "        for i in range(81): # up to 81 moves per game.\n",
    "            ''' ------ agent 1 turn ------'''\n",
    "            # get dictionary \n",
    "            temp_dict = ops.pull_dictionary(my_board)\n",
    "            # give dict to agent, calculate move\n",
    "            start = perf_counter()\n",
    "            agent1_move = agent1.move(temp_dict)\n",
    "            # time.sleep(0.5)\n",
    "            # validate the move\n",
    "            if not ops.check_move_is_valid(my_board, agent1_move):\n",
    "                raise Exception(f'invalid move selected by p1, {agent1_move}')\n",
    "\n",
    "            # make the move\n",
    "            ops.make_move(my_board, agent1_move)\n",
    "            if visualize:\n",
    "                plt.clf()\n",
    "                clear_output(wait=True)\n",
    "                vis_tools.fancy_draw_board(my_board)\n",
    "                plt.show()\n",
    "            # check whether game is finished\n",
    "            if ops.check_game_finished(my_board):\n",
    "                if 'agent 1' in ops.get_winner(my_board):\n",
    "                    win_counter += 1\n",
    "                else:\n",
    "                    draw_counter += 1\n",
    "                break\n",
    "\n",
    "            ''' agent 2 turn '''\n",
    "            # get dictionary \n",
    "            temp_dict = ops.pull_dictionary(my_board)\n",
    "            # give dict to agent, calculate move\n",
    "            start = perf_counter()\n",
    "            agent2_move = agent2.move(temp_dict)\n",
    "            # time.sleep(0.5)\n",
    "\n",
    "            # validate the move\n",
    "            if not ops.check_move_is_valid(my_board, agent2_move):\n",
    "                raise Exception(f'invalid move selected by p2, {agent2_move}')\n",
    "            # make the move\n",
    "            ops.make_move(my_board, agent2_move)\n",
    "            if visualize:\n",
    "                plt.clf()\n",
    "                clear_output(wait=True)\n",
    "                vis_tools.fancy_draw_board(my_board)\n",
    "                plt.show()\n",
    "            # check whether game is finished\n",
    "            if ops.check_game_finished(my_board):\n",
    "                if 'agent 2' in ops.get_winner(my_board):\n",
    "                    loss_counter += 1\n",
    "                else:\n",
    "                    draw_counter += 1\n",
    "                break\n",
    "            if visualize:\n",
    "                \n",
    "                print(win_counter, loss_counter, draw_counter)\n",
    "    # Calculate Elo difference\n",
    "    total_games = win_counter + loss_counter + draw_counter\n",
    "    win_rate = win_counter / total_games\n",
    "    draw_rate = draw_counter / total_games\n",
    "    loss_rate = loss_counter / total_games\n",
    "    E = win_rate + 0.5 * draw_rate\n",
    "    elo_diff = -400 * math.log10(1 / E - 1)\n",
    "\n",
    "    #ci formula from view-source:https://3dkingdoms.com/chess/elo.htm\n",
    "    percentage = (win_counter + draw_counter / 2) / total_games\n",
    "    \n",
    "    wins_dev = win_rate * (1- percentage)**2\n",
    "    draws_dev = draw_rate * (0.5 - percentage)**2\n",
    "    losses_dev = loss_rate * (0 - percentage)**2\n",
    "\n",
    "    std_dev = math.sqrt(wins_dev + draws_dev + losses_dev) / math.sqrt(total_games)\n",
    "\n",
    "    confidence = 0.95\n",
    "    min_confidence = (1- confidence) / 2\n",
    "    max_confidence = 1 - min_confidence\n",
    "\n",
    "    min_dev = percentage + stats.norm.ppf(min_confidence) * std_dev\n",
    "    max_dev = percentage + stats.norm.ppf(max_confidence) * std_dev\n",
    "    try:\n",
    "        diff = (-400 * math.log10(1 / max_dev - 1)) - (-400 * math.log10(1 / min_dev - 1)) \n",
    "    except ValueError:\n",
    "        diff = np.inf\n",
    "    return {'win':win_counter, 'loss':loss_counter, 'draw':draw_counter, 'elo_diff':elo_diff, 'elo_diff_ci +/': diff}"
   ]
  },
  {
   "cell_type": "code",
   "execution_count": 3,
   "metadata": {},
   "outputs": [],
   "source": [
    "from joblib import Parallel, delayed\n",
    "\n",
    "def play_single_game(agent1, agent2):\n",
    "    win, draw, loss = 0, 0, 0\n",
    "    my_board = board_obj()\n",
    "    #make first 4 moves randomly\n",
    "    for _ in range(4):\n",
    "        legal_moves = ops.get_valid_moves(my_board)\n",
    "        move = legal_moves[np.random.choice(len(legal_moves))]\n",
    "        ops.make_move(my_board, move)\n",
    "\n",
    "    for _ in range(81): # up to 81 moves per game.\n",
    "        ''' ------ agent 1 turn ------'''\n",
    "        # get dictionary \n",
    "        temp_dict = ops.pull_dictionary(my_board)\n",
    "        # give dict to agent, calculate move\n",
    "        agent1_move = agent1.move(temp_dict)\n",
    "        # validate the move\n",
    "        if not ops.check_move_is_valid(my_board, agent1_move):\n",
    "            raise Exception(f'invalid move selected by p1, {agent1_move}')\n",
    "\n",
    "        # make the move\n",
    "        ops.make_move(my_board, agent1_move)\n",
    "        # check whether game is finished\n",
    "        if ops.check_game_finished(my_board):\n",
    "            if 'agent 1' in ops.get_winner(my_board):\n",
    "                win += 1\n",
    "            else:\n",
    "                draw += 1\n",
    "            break\n",
    "\n",
    "        ''' agent 2 turn '''\n",
    "        # get dictionary \n",
    "        temp_dict = ops.pull_dictionary(my_board)\n",
    "        # give dict to agent, calculate move\n",
    "        start = perf_counter()\n",
    "        agent2_move = agent2.move(temp_dict)\n",
    "\n",
    "        # validate the move\n",
    "        if not ops.check_move_is_valid(my_board, agent2_move):\n",
    "            raise Exception(f'invalid move selected by p2, {agent2_move}')\n",
    "        # make the move\n",
    "        ops.make_move(my_board, agent2_move)\n",
    "        # check whether game is finished\n",
    "        if ops.check_game_finished(my_board):\n",
    "            if 'agent 2' in ops.get_winner(my_board):\n",
    "                loss += 1\n",
    "            else:\n",
    "                draw += 1\n",
    "            break\n",
    "    return win, loss, draw\n",
    "\n",
    "def faceoff_parallel(agent1, agent2, ngames=100, njobs=6):\n",
    "    '''FAST, BUT RESULTS WILL BE SLIGHTLY DIFFERENT FROM SEQUENTIAL VERSION DUE TO PROCESSES COMPETING FOR RESOURCES.'''\n",
    "    # Parallel execution with tqdm progress update\n",
    "    results = Parallel(n_jobs=njobs, backend=\"loky\")(delayed(play_single_game)(agent1(), agent2()) for _ in tqdm(range(ngames)))\n",
    "\n",
    "    # Aggregate results\n",
    "    total_wins = sum(result[0] for result in results)\n",
    "    total_losses = sum(result[1] for result in results)\n",
    "    total_draws = sum(result[2] for result in results)\n",
    "\n",
    "    # Calculate Elo difference\n",
    "    total_games = total_wins + total_losses + total_draws\n",
    "    win_rate = total_wins / total_games\n",
    "    draw_rate = total_draws / total_games\n",
    "    loss_rate = total_losses / total_games\n",
    "    E = win_rate + 0.5 * draw_rate\n",
    "    elo_diff = -400 * math.log10(1 / E - 1)\n",
    "\n",
    "    #ci formula from view-source:https://3dkingdoms.com/chess/elo.htm\n",
    "    percentage = (total_wins + total_draws / 2) / total_games\n",
    "    \n",
    "    wins_dev = win_rate * (1- percentage)**2\n",
    "    draws_dev = draw_rate * (0.5 - percentage)**2\n",
    "    losses_dev = loss_rate * (0 - percentage)**2\n",
    "\n",
    "    std_dev = math.sqrt(wins_dev + draws_dev + losses_dev) / math.sqrt(total_games)\n",
    "\n",
    "    confidence = 0.95\n",
    "    min_confidence = (1- confidence) / 2\n",
    "    max_confidence = 1 - min_confidence\n",
    "\n",
    "    min_dev = percentage + stats.norm.ppf(min_confidence) * std_dev\n",
    "    max_dev = percentage + stats.norm.ppf(max_confidence) * std_dev\n",
    "    diff = (-400 * math.log10(1 / max_dev - 1)) - (-400 * math.log10(1 / min_dev - 1)) \n",
    "    \n",
    "\n",
    "\n",
    "    return {'win': total_wins, 'loss': total_losses, 'draw': total_draws, 'elo_diff': elo_diff, 'elo_conf_interval +/-': diff/2}"
   ]
  },
  {
   "cell_type": "code",
   "execution_count": 4,
   "metadata": {},
   "outputs": [],
   "source": [
    "class random_bot:\n",
    "    '''\n",
    "    this bot selects a random valid move\n",
    "    '''\n",
    "    def __init__(self, name = 'beep-boop'):\n",
    "        self.name = name\n",
    "    def move(self, board_dict):\n",
    "        # print(board_dict['valid_moves'])\n",
    "        b = board_obj()\n",
    "        b.build_from_dict_gamestate(board_dict)\n",
    "        # print(b.miniboxes)\n",
    "        random_index = np.random.choice(len(board_dict['valid_moves']))\n",
    "        return board_dict['valid_moves'][random_index]"
   ]
  },
  {
   "cell_type": "code",
   "execution_count": 5,
   "metadata": {},
   "outputs": [],
   "source": [
    "import numpy as np\n",
    "class line_completer_bot:\n",
    "    '''\n",
    "    tries to complete lines, otherwise it plays randomly\n",
    "    designed to show how to implement a relatively simple strategy\n",
    "    '''\n",
    "    \n",
    "    ''' ------------------ required function ---------------- '''\n",
    "    \n",
    "    def __init__(self,name: str = 'Chekhov') -> None:\n",
    "        self.name = name\n",
    "        self.box_probs = np.ones((3,3)) # edges\n",
    "        self.box_probs[1,1] = 4 # center\n",
    "        self.box_probs[0,0] = self.box_probs[0,2] = self.box_probs[2,0] = self.box_probs[2,2] = 2 # corners\n",
    "        \n",
    "    def move(self, board_dict: dict) -> tuple:\n",
    "        ''' wrapper\n",
    "        apply the logic and returns the desired move\n",
    "        '''\n",
    "        return tuple(self.heuristic_mini_to_major(board_state = board_dict['board_state'],\n",
    "                                                  active_box = board_dict['active_box'],\n",
    "                                                  valid_moves = board_dict['valid_moves']))\n",
    "    \n",
    "    \n",
    "    ''' --------- generally useful bot functions ------------ '''\n",
    "    \n",
    "    def _check_line(self, box: np.array) -> bool:\n",
    "        '''\n",
    "        box is a (3,3) array\n",
    "        returns True if a line is found, else returns False '''\n",
    "        for i in range(3):\n",
    "            if abs(sum(box[:,i])) == 3: return True # horizontal\n",
    "            if abs(sum(box[i,:])) == 3: return True # vertical\n",
    "\n",
    "        # diagonals\n",
    "        if abs(box.trace()) == 3: return True\n",
    "        if abs(np.rot90(box).trace()) == 3: return True\n",
    "        return False\n",
    "\n",
    "    def _check_line_playerwise(self, box: np.array, player: int = None):\n",
    "        ''' returns true if the given player has a line in the box, else false\n",
    "        if no player is given, it checks for whether any player has a line in the box'''\n",
    "        if player == None:\n",
    "            return self._check_line(box)\n",
    "        if player == -1:\n",
    "            box = box * -1\n",
    "        box = np.clip(box,0,1)\n",
    "        return self._check_line(box)\n",
    "    \n",
    "    def pull_mini_board(self, board_state: np.array, mini_board_index: tuple) -> np.array:\n",
    "        ''' extracts a mini board from the 9x9 given the its index'''\n",
    "        temp = board_state[mini_board_index[0]*3:(mini_board_index[0]+1)*3,\n",
    "                           mini_board_index[1]*3:(mini_board_index[1]+1)*3]\n",
    "        return temp\n",
    "\n",
    "    def get_valid(self, mini_board: np.array) -> np.array:\n",
    "        ''' gets valid moves in the miniboard'''\n",
    "#        print(mini_board)\n",
    "#        print(np.where(mini_board == 0))\n",
    "#        return np.where(mini_board == 0)\n",
    "        return np.where(abs(mini_board) != 1)\n",
    "\n",
    "    def get_finished(self, board_state: np.array) -> np.array:\n",
    "        ''' calculates the completed boxes'''\n",
    "        self_boxes = np.zeros((3,3))\n",
    "        opp_boxes = np.zeros((3,3))\n",
    "        stale_boxes = np.zeros((3,3))\n",
    "        # look at each miniboard separately\n",
    "        for _r in range(3):\n",
    "            for _c in range(3):\n",
    "                player_finished = False\n",
    "                mini_board = self.pull_mini_board(board_state, (_r,_c))\n",
    "                if self._check_line_playerwise(mini_board, player = 1):\n",
    "                    self_boxes[_r,_c] = 1\n",
    "                    player_finished = True\n",
    "                if self._check_line_playerwise(mini_board, player = -1):\n",
    "                    opp_boxes[_r,_c] = 1\n",
    "                    player_finished = True\n",
    "                if (sum(abs(mini_board.flatten())) == 9) and not player_finished:\n",
    "                    stale_boxes[_r,_c] = 1\n",
    "\n",
    "        # return finished boxes (separated by their content)\n",
    "        return (self_boxes, opp_boxes, stale_boxes)\n",
    "    \n",
    "    def complete_line(self, mini_board: np.array) -> list:\n",
    "        if sum(abs(mini_board.flatten())) == 9:\n",
    "            print('invalid mini_board') # should never reach here\n",
    "        # works as expected, however mini-board sometimes is sometimes invalid\n",
    "        ''' completes a line if available '''\n",
    "        # loop through valid moves with hypothetic self position there.\n",
    "        # if it makes a line it's an imminent win\n",
    "        imminent = list()\n",
    "        valid_moves = self.get_valid(mini_board)\n",
    "        for _valid in zip(*valid_moves):\n",
    "            # create temp valid pattern\n",
    "            valid_filter = np.zeros((3,3))\n",
    "            valid_filter[_valid[0],_valid[1]] = 1\n",
    "            if self._check_line(mini_board + valid_filter):\n",
    "                imminent.append(_valid)\n",
    "        return imminent\n",
    "    \n",
    "    def get_probs(self, valid_moves: list) -> np.array:\n",
    "        ''' match the probability with the valid moves to weight the random choice '''\n",
    "        valid_moves = np.array(valid_moves)\n",
    "        probs = list()\n",
    "        for _valid in np.array(valid_moves).reshape(-1,2):\n",
    "            \n",
    "            probs.append(self.box_probs[_valid[0],_valid[1]])\n",
    "        probs /= sum(probs) # normalize\n",
    "        return probs\n",
    "    \n",
    "    ''' ------------------ bot specific logic ---------------- '''\n",
    "    \n",
    "    def heuristic_mini_to_major(self,\n",
    "                                board_state: np.array,\n",
    "                                active_box: tuple,\n",
    "                                valid_moves: list) -> tuple:\n",
    "        '''\n",
    "        either applies the heuristic to the mini-board or selects a mini-board (then applies the heuristic to it)\n",
    "        '''\n",
    "        if active_box != (-1,-1):\n",
    "            # look just at the mini board\n",
    "            mini_board = self.pull_mini_board(board_state, active_box)\n",
    "            # look using the logic, select a move\n",
    "            move = self.mid_heuristic(mini_board)\n",
    "            # project back to original board space\n",
    "            return (move[0] + 3 * active_box[0],\n",
    "                    move[1] + 3 * active_box[1])\n",
    "\n",
    "        else:\n",
    "        #    print(np.array(valid_moves).shape) # sometimes the miniboard i'm sent to has no valid moves\n",
    "        \n",
    "            # use heuristic on finished boxes to select which box to play in\n",
    "            imposed_active_box = self.major_heuristic(board_state)\n",
    "#            print(self.pull_mini_board(board_state, imposed_active_box),'\\n')\n",
    "#            print('\\n')\n",
    "\n",
    "            # call this function with the self-imposed active box\n",
    "            return self.heuristic_mini_to_major(board_state = board_state,\n",
    "                                                active_box = imposed_active_box,\n",
    "                                                valid_moves = valid_moves)\n",
    "\n",
    "    def major_heuristic(self, board_state: np.array) -> tuple:\n",
    "        '''\n",
    "        determines which miniboard to play on\n",
    "        note: having stale boxes was causing issues where the logic wanted to block\n",
    "              the opponent but that mini-board was already finished (it was stale)\n",
    "        '''\n",
    "        z = self.get_finished(board_state)\n",
    "        # finished boxes is a tuple of 3 masks: self, opponent, stale \n",
    "        self_boxes  = z[0]\n",
    "        opp_boxes   = z[1]\n",
    "        stale_boxes = z[2]\n",
    "#        print('self:\\n',self_boxes)\n",
    "#        print('opp :\\n',opp_boxes)\n",
    "#        print('stale:\\n',stale_boxes)\n",
    "        \n",
    "        # ----- identify imminent wins -----\n",
    "        imminent_wins = self.complete_line(self_boxes)\n",
    "#        print('len imminent win:',len(imminent_wins))\n",
    "        # remove imminent wins that point to stale boxes (or opponent)\n",
    "        stale_boxes_idxs = zip(*np.where(stale_boxes))\n",
    "        for stale_box in stale_boxes_idxs:\n",
    "            if stale_box in imminent_wins:\n",
    "                imminent_wins.remove(stale_box)\n",
    "        opp_boxes_idx = zip(*np.where(opp_boxes))\n",
    "        for opp_box in opp_boxes_idx:\n",
    "            if opp_box in imminent_wins:\n",
    "                imminent_wins.remove(opp_box)\n",
    "        # if it can complete a line, do it\n",
    "        if len(imminent_wins) > 0: \n",
    "#            print('returning line')\n",
    "#            print('len imminent win:',len(imminent_wins))\n",
    "            return imminent_wins[np.random.choice(len(imminent_wins), p=self.get_probs(imminent_wins))]\n",
    "\n",
    "        # ------ attempt to block -----\n",
    "        imminent_loss = self.complete_line(opp_boxes)\n",
    "        # make new list to remove imminent wins that point to stale boxes\n",
    "        stale_boxes_idx = zip(*np.where(stale_boxes))\n",
    "        for stale_box in stale_boxes_idx:\n",
    "            if stale_box in imminent_loss:\n",
    "                imminent_loss.remove(stale_box)\n",
    "        self_boxes_idx = zip(*np.where(self_boxes))\n",
    "        for self_box in self_boxes_idx:\n",
    "            if self_box in imminent_loss:\n",
    "                imminent_loss.remove(self_box)\n",
    "        if len(imminent_loss) > 0:\n",
    "#            print('returning block')\n",
    "            return imminent_loss[np.random.choice(len(imminent_loss), p=self.get_probs(imminent_loss))]\n",
    "\n",
    "        # ------ else take random ------\n",
    "#        print('returning random')\n",
    "        internal_valid = np.array(list(zip(*self.get_valid(self_boxes + opp_boxes + stale_boxes))))\n",
    "        return tuple(internal_valid[np.random.choice(len(internal_valid), p=self.get_probs(internal_valid))])\n",
    "        \n",
    "    def mid_heuristic(self, mini_board: np.array) -> tuple:\n",
    "        ''' main mini-board logic '''\n",
    "        # try to complete a line on this miniboard\n",
    "        imminent_wins = self.complete_line(mini_board)\n",
    "        if len(imminent_wins) > 0:\n",
    "            return imminent_wins[np.random.choice(len(imminent_wins))]\n",
    "\n",
    "        ''' attempt to block'''\n",
    "        imminent_wins = self.complete_line(mini_board * -1) # pretend to make lines from opponent's perspective\n",
    "        if len(imminent_wins) > 0:\n",
    "            return imminent_wins[np.random.choice(len(imminent_wins))]\n",
    "\n",
    "        # else play randomly\n",
    "        valid_moves = np.array(list(zip(*self.get_valid(mini_board))))\n",
    "        return tuple(valid_moves[np.random.choice(len(valid_moves), p=self.get_probs(valid_moves))])\n",
    "\n"
   ]
  },
  {
   "cell_type": "code",
   "execution_count": 6,
   "metadata": {},
   "outputs": [
    {
     "name": "stderr",
     "output_type": "stream",
     "text": [
      "100%|██████████| 1000/1000 [00:02<00:00, 351.70it/s]\n"
     ]
    },
    {
     "data": {
      "text/plain": [
       "{'win': 930,\n",
       " 'loss': 19,\n",
       " 'draw': 51,\n",
       " 'elo_diff': 532.7482721640404,\n",
       " 'elo_conf_interval +/-': 44.52347645656272}"
      ]
     },
     "execution_count": 6,
     "metadata": {},
     "output_type": "execute_result"
    }
   ],
   "source": [
    "faceoff_parallel(line_completer_bot, random_bot, ngames=1000)"
   ]
  },
  {
   "cell_type": "code",
   "execution_count": 56,
   "metadata": {},
   "outputs": [],
   "source": [
    "import time\n",
    "class minimax_ref:\n",
    "    def __init__(self,name: str = 'Minimax Reference') -> None:\n",
    "        self.name = name\n",
    "        self.thinking_time = 0.1\n",
    "        self.root_best_move = None\n",
    "        self.start_time = None\n",
    "        self.score = 0\n",
    "        self.maximizing_idx = 0\n",
    "    def move(self, board_dict: dict) -> tuple:\n",
    "        ''' wrapper\n",
    "        apply the logic and returns the desired move\n",
    "        '''\n",
    "        b_obj = board_obj()\n",
    "        b_obj.build_from_dict_gamestate(board_dict)\n",
    "        self.maximizing_idx = b_obj.n_moves % 2\n",
    "        return self.get_best_move(b_obj)\n",
    "    \n",
    "    def get_best_move(self, board: board_obj):\n",
    "        depth = 1\n",
    "        self.start_time = time.time()\n",
    "        while time.time() - self.start_time < self.thinking_time:\n",
    "            self.search(board, depth, True, 0)\n",
    "            depth += 1\n",
    "        print(f'reached depth {depth-1} in {time.time() - self.start_time} seconds with score {self.score}')\n",
    "        return self.root_best_move\n",
    "    \n",
    "    def search(self, board:board_obj, depth:int, maximizing_player:bool, ply: int) -> int:\n",
    "        '''simple minimax search'''\n",
    "        if ops.check_game_finished(board):\n",
    "            if np.all(np.any(board.miniboxes,axis=2)):\n",
    "                return 0 #draw\n",
    "            else:\n",
    "                if maximizing_player:\n",
    "                    return -100 + ply\n",
    "                else:\n",
    "                    return 100 - ply\n",
    "        if depth == 0:\n",
    "            return self.evaluate(board)\n",
    "        if time.time() - self.start_time > self.thinking_time:\n",
    "            #want to immediately return and ignore results when out of time, so just turn node into a cutoff for its parent\n",
    "            if maximizing_player:\n",
    "                return np.inf\n",
    "            else:\n",
    "                return -np.inf\n",
    "        if maximizing_player:\n",
    "            max_value = -np.inf\n",
    "            legal_moves = ops.get_valid_moves(board)\n",
    "            for move in legal_moves:\n",
    "                ops.make_move(board, move)\n",
    "                new_value = self.search(board, depth-1, False, ply+1)\n",
    "                if new_value > max_value:\n",
    "                    max_value = new_value\n",
    "                    if ply == 0:\n",
    "                        self.root_best_move = move\n",
    "                        self.score = max_value\n",
    "                ops.undo_move(board)\n",
    "            return max_value\n",
    "        else:\n",
    "            value = np.inf\n",
    "            legal_moves = ops.get_valid_moves(board)\n",
    "            for move in legal_moves:\n",
    "                ops.make_move(board, move)\n",
    "                value = min(value, self.search(board, depth-1, True, ply+1))\n",
    "                ops.undo_move(board)\n",
    "            return value\n",
    "    def evaluate(self, board):\n",
    "        '''simple evaluation function'''\n",
    "        return self.minibox_score(board)\n",
    "    def minibox_score(self, board):\n",
    "        scores = [np.sum(board.miniboxes[:, :, p]) for p in range(2)]\n",
    "        minibox_scores = scores[self.maximizing_idx] - scores[(self.maximizing_idx + 1) % 2]\n",
    "        return minibox_scores\n",
    "\n",
    "        \n"
   ]
  },
  {
   "cell_type": "code",
   "execution_count": 8,
   "metadata": {},
   "outputs": [
    {
     "name": "stderr",
     "output_type": "stream",
     "text": [
      "100%|██████████| 1000/1000 [02:53<00:00,  5.78it/s]\n"
     ]
    },
    {
     "data": {
      "text/plain": [
       "{'win': 767,\n",
       " 'loss': 179,\n",
       " 'draw': 54,\n",
       " 'elo_diff': 234.38131282317718,\n",
       " 'elo_conf_interval +/-': 25.59419925359903}"
      ]
     },
     "execution_count": 8,
     "metadata": {},
     "output_type": "execute_result"
    }
   ],
   "source": [
    "faceoff_parallel(minimax_ref, random_bot, ngames=1000, njobs=-1)"
   ]
  },
  {
   "cell_type": "code",
   "execution_count": 9,
   "metadata": {},
   "outputs": [
    {
     "name": "stderr",
     "output_type": "stream",
     "text": [
      "100%|██████████| 1000/1000 [02:08<00:00,  7.81it/s]\n"
     ]
    },
    {
     "data": {
      "text/plain": [
       "{'win': 94,\n",
       " 'loss': 852,\n",
       " 'draw': 54,\n",
       " 'elo_diff': -344.4814019029287,\n",
       " 'elo_conf_interval +/-': 31.072288895299522}"
      ]
     },
     "execution_count": 9,
     "metadata": {},
     "output_type": "execute_result"
    }
   ],
   "source": [
    "faceoff_parallel(minimax_ref, line_completer_bot, ngames=1000, njobs=-1)"
   ]
  },
  {
   "cell_type": "code",
   "execution_count": 57,
   "metadata": {},
   "outputs": [],
   "source": [
    "class ab_pruning_ref(minimax_ref):\n",
    "    def search(self, board:board_obj, depth:int, maximizing_player:bool, ply: int, alpha: int = -np.inf, beta: int = np.inf) -> int:\n",
    "        '''simple minimax search'''\n",
    "        if ops.check_game_finished(board):\n",
    "            if np.all(np.any(board.miniboxes,axis=2)):\n",
    "                return 0 #draw\n",
    "            else:\n",
    "                if maximizing_player:\n",
    "                    return -100 + ply\n",
    "                else:\n",
    "                    return 100 - ply\n",
    "        if depth == 0:\n",
    "            return self.evaluate(board)\n",
    "        if time.time() - self.start_time > self.thinking_time:\n",
    "            if maximizing_player:\n",
    "                return np.inf\n",
    "            else:\n",
    "                return -np.inf\n",
    "        if maximizing_player:\n",
    "            max_value = -np.inf\n",
    "            legal_moves = ops.get_valid_moves(board)\n",
    "            for move in legal_moves:\n",
    "                ops.make_move(board, move)\n",
    "                max_value = max(max_value, self.search(board, depth-1, False, ply+1, alpha, beta))\n",
    "                ops.undo_move(board)\n",
    "                if max_value > beta:\n",
    "                    break\n",
    "                if max_value > alpha:\n",
    "                    alpha = max_value\n",
    "                    if ply == 0:\n",
    "                        self.root_best_move = move\n",
    "                        self.score = max_value\n",
    "            return max_value\n",
    "        else:\n",
    "            value = np.inf\n",
    "            legal_moves = ops.get_valid_moves(board)\n",
    "            for move in legal_moves:\n",
    "                ops.make_move(board, move)\n",
    "                value = min(value, self.search(board, depth-1, True, ply+1, alpha, beta))\n",
    "                ops.undo_move(board)\n",
    "                if value < alpha:\n",
    "                    break\n",
    "                beta = min(beta, value)\n",
    "            return value\n"
   ]
  },
  {
   "cell_type": "code",
   "execution_count": 11,
   "metadata": {},
   "outputs": [
    {
     "name": "stderr",
     "output_type": "stream",
     "text": [
      "100%|██████████| 1000/1000 [03:05<00:00,  5.40it/s]\n"
     ]
    },
    {
     "data": {
      "text/plain": [
       "{'win': 767,\n",
       " 'loss': 172,\n",
       " 'draw': 61,\n",
       " 'elo_diff': 238.1222656714125,\n",
       " 'elo_conf_interval +/-': 25.591340058604345}"
      ]
     },
     "execution_count": 11,
     "metadata": {},
     "output_type": "execute_result"
    }
   ],
   "source": [
    "faceoff_parallel(ab_pruning_ref, random_bot, ngames=1000, njobs=-1)"
   ]
  },
  {
   "cell_type": "code",
   "execution_count": 12,
   "metadata": {},
   "outputs": [
    {
     "name": "stderr",
     "output_type": "stream",
     "text": [
      "100%|██████████| 1000/1000 [05:52<00:00,  2.83it/s]\n"
     ]
    },
    {
     "data": {
      "text/plain": [
       "{'win': 570,\n",
       " 'loss': 345,\n",
       " 'draw': 85,\n",
       " 'elo_diff': 79.53375447769632,\n",
       " 'elo_conf_interval +/-': 21.117931304421518}"
      ]
     },
     "execution_count": 12,
     "metadata": {},
     "output_type": "execute_result"
    }
   ],
   "source": [
    "faceoff_parallel(ab_pruning_ref, minimax_ref, ngames=1000, njobs=-1)"
   ]
  },
  {
   "cell_type": "code",
   "execution_count": 13,
   "metadata": {},
   "outputs": [
    {
     "name": "stderr",
     "output_type": "stream",
     "text": [
      "100%|██████████| 1000/1000 [02:19<00:00,  7.15it/s]\n"
     ]
    },
    {
     "data": {
      "text/plain": [
       "{'win': 103,\n",
       " 'loss': 819,\n",
       " 'draw': 78,\n",
       " 'elo_diff': -312.4795773862596,\n",
       " 'elo_conf_interval +/-': 28.430553664917767}"
      ]
     },
     "execution_count": 13,
     "metadata": {},
     "output_type": "execute_result"
    }
   ],
   "source": [
    "faceoff_parallel(ab_pruning_ref, line_completer_bot, ngames=1000, njobs=-1)"
   ]
  },
  {
   "cell_type": "code",
   "execution_count": 64,
   "metadata": {},
   "outputs": [],
   "source": [
    "class transposition_table(ab_pruning_ref):\n",
    "    def __init__(self, name: str = 'Transposition Table'):\n",
    "        self.name = name\n",
    "        self.thinking_time = 0.1\n",
    "        self.root_best_move = None\n",
    "        self.start_time = None\n",
    "        self.score = 0\n",
    "        self.maximizing_idx = 0\n",
    "        self.transposition_table = dict()\n",
    "        \n",
    "    def search(self, board:board_obj, depth:int, maximizing_player:bool, ply: int, alpha: int = -np.inf, beta: int = np.inf) -> int:\n",
    "        '''simple minimax search'''\n",
    "        if ops.check_game_finished(board):\n",
    "            if np.all(np.any(board.miniboxes,axis=2)):\n",
    "                return 0 #draw\n",
    "            else:\n",
    "                if maximizing_player:\n",
    "                    return -100 + ply\n",
    "                else:\n",
    "                    return 100 - ply\n",
    "        try:\n",
    "            tt_entry = self.transposition_table[board.hist.tobytes()]\n",
    "            if tt_entry[1] >= depth and (tt_entry[2] == 0 #exact score\n",
    "                                          #or tt_entry[2] == 2 and tt_entry[0] >= beta #lower bound\n",
    "                                          #or tt_entry[2] == 1 and tt_entry[0] <= alpha\n",
    "                                          ): #upper bound\n",
    "                return tt_entry[0]\n",
    "        except KeyError:\n",
    "            pass\n",
    "        \n",
    "        if depth == 0:\n",
    "            return self.evaluate(board)\n",
    "        if time.time() - self.start_time > self.thinking_time:\n",
    "            if maximizing_player:\n",
    "                return np.inf\n",
    "            else:\n",
    "                return -np.inf\n",
    "        if maximizing_player:\n",
    "            max_value = -np.inf\n",
    "            legal_moves = ops.get_valid_moves(board)\n",
    "            for move in legal_moves:\n",
    "                ops.make_move(board, move)\n",
    "                max_value = max(max_value, self.search(board, depth-1, False, ply+1, alpha, beta))\n",
    "                ops.undo_move(board)\n",
    "                if max_value > beta:\n",
    "                    break\n",
    "                if max_value > alpha:\n",
    "                    alpha = max_value\n",
    "                    if ply == 0:\n",
    "                        self.root_best_move = move\n",
    "                        self.score = max_value\n",
    "            entry_bound_flag = 0\n",
    "            if max_value <= alpha:\n",
    "                entry_bound_flag = 1\n",
    "            elif max_value >= beta:\n",
    "                entry_bound_flag = 2\n",
    "            self.transposition_table[board.hist.tobytes()] = (max_value, depth, entry_bound_flag)\n",
    "            return max_value\n",
    "        else:\n",
    "            value = np.inf\n",
    "            legal_moves = ops.get_valid_moves(board)\n",
    "            for move in legal_moves:\n",
    "                ops.make_move(board, move)\n",
    "                value = min(value, self.search(board, depth-1, True, ply+1, alpha, beta))\n",
    "                ops.undo_move(board)\n",
    "                if value < alpha:\n",
    "                    break\n",
    "                beta = min(beta, value)\n",
    "            return value"
   ]
  },
  {
   "cell_type": "code",
   "execution_count": 44,
   "metadata": {},
   "outputs": [
    {
     "name": "stderr",
     "output_type": "stream",
     "text": [
      "100%|██████████| 200/200 [00:32<00:00,  6.20it/s]\n"
     ]
    },
    {
     "data": {
      "text/plain": [
       "{'win': 154,\n",
       " 'loss': 39,\n",
       " 'draw': 7,\n",
       " 'elo_diff': 227.55665123012315,\n",
       " 'elo_conf_interval +/-': 58.37193443557629}"
      ]
     },
     "execution_count": 44,
     "metadata": {},
     "output_type": "execute_result"
    }
   ],
   "source": [
    "faceoff_parallel(transposition_table, random_bot, ngames=200, njobs=-1)"
   ]
  },
  {
   "cell_type": "code",
   "execution_count": 38,
   "metadata": {},
   "outputs": [
    {
     "name": "stderr",
     "output_type": "stream",
     "text": [
      "100%|██████████| 1000/1000 [05:57<00:00,  2.80it/s]\n"
     ]
    },
    {
     "data": {
      "text/plain": [
       "{'win': 525,\n",
       " 'loss': 382,\n",
       " 'draw': 93,\n",
       " 'elo_diff': 50.02616338883341,\n",
       " 'elo_conf_interval +/-': 20.724951273089808}"
      ]
     },
     "execution_count": 38,
     "metadata": {},
     "output_type": "execute_result"
    }
   ],
   "source": [
    "faceoff_parallel(transposition_table, minimax_ref, ngames=1000, njobs=-1)"
   ]
  },
  {
   "cell_type": "code",
   "execution_count": 45,
   "metadata": {},
   "outputs": [
    {
     "name": "stderr",
     "output_type": "stream",
     "text": [
      "100%|██████████| 200/200 [01:09<00:00,  2.90it/s]\n"
     ]
    },
    {
     "data": {
      "text/plain": [
       "{'win': 99,\n",
       " 'loss': 82,\n",
       " 'draw': 19,\n",
       " 'elo_diff': 29.60345764724001,\n",
       " 'elo_conf_interval +/-': 46.232675897623196}"
      ]
     },
     "execution_count": 45,
     "metadata": {},
     "output_type": "execute_result"
    }
   ],
   "source": [
    "faceoff_parallel(transposition_table, ab_pruning_ref, ngames=200, njobs=-1)"
   ]
  },
  {
   "cell_type": "code",
   "execution_count": 63,
   "metadata": {},
   "outputs": [
    {
     "name": "stderr",
     "output_type": "stream",
     "text": [
      " 30%|███       | 3/10 [00:59<02:19, 19.97s/it]\n"
     ]
    },
    {
     "ename": "KeyboardInterrupt",
     "evalue": "",
     "output_type": "error",
     "traceback": [
      "\u001b[0;31m---------------------------------------------------------------------------\u001b[0m",
      "\u001b[0;31mKeyboardInterrupt\u001b[0m                         Traceback (most recent call last)",
      "Cell \u001b[0;32mIn[63], line 1\u001b[0m\n\u001b[0;32m----> 1\u001b[0m \u001b[43mfaceoff_sequential\u001b[49m\u001b[43m(\u001b[49m\u001b[43mtransposition_table\u001b[49m\u001b[43m(\u001b[49m\u001b[43m)\u001b[49m\u001b[43m,\u001b[49m\u001b[43m \u001b[49m\u001b[43mab_pruning_ref\u001b[49m\u001b[43m(\u001b[49m\u001b[43m)\u001b[49m\u001b[43m,\u001b[49m\u001b[43m \u001b[49m\u001b[43mngames\u001b[49m\u001b[38;5;241;43m=\u001b[39;49m\u001b[38;5;241;43m10\u001b[39;49m\u001b[43m,\u001b[49m\u001b[43m \u001b[49m\u001b[43mvisualize\u001b[49m\u001b[38;5;241;43m=\u001b[39;49m\u001b[38;5;28;43;01mTrue\u001b[39;49;00m\u001b[43m)\u001b[49m\n",
      "Cell \u001b[0;32mIn[60], line 33\u001b[0m, in \u001b[0;36mfaceoff_sequential\u001b[0;34m(agent1, agent2, ngames, visualize)\u001b[0m\n\u001b[1;32m     31\u001b[0m     plt\u001b[38;5;241m.\u001b[39mclf()\n\u001b[1;32m     32\u001b[0m     clear_output(wait\u001b[38;5;241m=\u001b[39m\u001b[38;5;28;01mTrue\u001b[39;00m)\n\u001b[0;32m---> 33\u001b[0m     \u001b[43mvis_tools\u001b[49m\u001b[38;5;241;43m.\u001b[39;49m\u001b[43mfancy_draw_board\u001b[49m\u001b[43m(\u001b[49m\u001b[43mmy_board\u001b[49m\u001b[43m)\u001b[49m\n\u001b[1;32m     34\u001b[0m     plt\u001b[38;5;241m.\u001b[39mshow()\n\u001b[1;32m     35\u001b[0m \u001b[38;5;66;03m# check whether game is finished\u001b[39;00m\n",
      "File \u001b[0;32m~/Desktop/projects/UTTT/vis_tools.py:61\u001b[0m, in \u001b[0;36mfancy_draw_board\u001b[0;34m(board_obj, marker_size)\u001b[0m\n\u001b[1;32m     58\u001b[0m \u001b[38;5;28;01mif\u001b[39;00m board_obj\u001b[38;5;241m.\u001b[39mn_moves\u001b[38;5;241m%\u001b[39m\u001b[38;5;241m2\u001b[39m \u001b[38;5;241m==\u001b[39m \u001b[38;5;241m1\u001b[39m:\n\u001b[1;32m     59\u001b[0m     temp_dict[\u001b[38;5;124m'\u001b[39m\u001b[38;5;124mboard_state\u001b[39m\u001b[38;5;124m'\u001b[39m] \u001b[38;5;241m*\u001b[39m\u001b[38;5;241m=\u001b[39m \u001b[38;5;241m-\u001b[39m\u001b[38;5;241m1\u001b[39m\n\u001b[0;32m---> 61\u001b[0m \u001b[43mplt\u001b[49m\u001b[38;5;241;43m.\u001b[39;49m\u001b[43mimshow\u001b[49m\u001b[43m(\u001b[49m\u001b[43mcheckerboard\u001b[49m\u001b[43m(\u001b[49m\u001b[43m(\u001b[49m\u001b[38;5;241;43m9\u001b[39;49m\u001b[43m,\u001b[49m\u001b[38;5;241;43m9\u001b[39;49m\u001b[43m)\u001b[49m\u001b[43m)\u001b[49m\u001b[43m,\u001b[49m\u001b[43m \u001b[49m\u001b[43mcmap\u001b[49m\u001b[38;5;241;43m=\u001b[39;49m\u001b[43mcheckerboard_cmap\u001b[49m\u001b[43m,\u001b[49m\u001b[43m \u001b[49m\u001b[43morigin\u001b[49m\u001b[38;5;241;43m=\u001b[39;49m\u001b[38;5;124;43m'\u001b[39;49m\u001b[38;5;124;43mlower\u001b[39;49m\u001b[38;5;124;43m'\u001b[39;49m\u001b[43m)\u001b[49m\n\u001b[1;32m     62\u001b[0m \u001b[38;5;28;01mfor\u001b[39;00m i \u001b[38;5;129;01min\u001b[39;00m [\u001b[38;5;241m-\u001b[39m\u001b[38;5;241m0.5\u001b[39m,\u001b[38;5;241m2.5\u001b[39m,\u001b[38;5;241m5.5\u001b[39m, \u001b[38;5;241m8.5\u001b[39m]:\n\u001b[1;32m     63\u001b[0m     plt\u001b[38;5;241m.\u001b[39maxvline(i,c\u001b[38;5;241m=\u001b[39m\u001b[38;5;124m'\u001b[39m\u001b[38;5;124mk\u001b[39m\u001b[38;5;124m'\u001b[39m)\n",
      "File \u001b[0;32m~/Desktop/projects/UTTT/.venv/lib/python3.11/site-packages/matplotlib/pyplot.py:3343\u001b[0m, in \u001b[0;36mimshow\u001b[0;34m(X, cmap, norm, aspect, interpolation, alpha, vmin, vmax, origin, extent, interpolation_stage, filternorm, filterrad, resample, url, data, **kwargs)\u001b[0m\n\u001b[1;32m   3322\u001b[0m \u001b[38;5;129m@_copy_docstring_and_deprecators\u001b[39m(Axes\u001b[38;5;241m.\u001b[39mimshow)\n\u001b[1;32m   3323\u001b[0m \u001b[38;5;28;01mdef\u001b[39;00m \u001b[38;5;21mimshow\u001b[39m(\n\u001b[1;32m   3324\u001b[0m     X: ArrayLike \u001b[38;5;241m|\u001b[39m PIL\u001b[38;5;241m.\u001b[39mImage\u001b[38;5;241m.\u001b[39mImage,\n\u001b[0;32m   (...)\u001b[0m\n\u001b[1;32m   3341\u001b[0m     \u001b[38;5;241m*\u001b[39m\u001b[38;5;241m*\u001b[39mkwargs,\n\u001b[1;32m   3342\u001b[0m ) \u001b[38;5;241m-\u001b[39m\u001b[38;5;241m>\u001b[39m AxesImage:\n\u001b[0;32m-> 3343\u001b[0m     __ret \u001b[38;5;241m=\u001b[39m \u001b[43mgca\u001b[49m\u001b[43m(\u001b[49m\u001b[43m)\u001b[49m\u001b[38;5;241m.\u001b[39mimshow(\n\u001b[1;32m   3344\u001b[0m         X,\n\u001b[1;32m   3345\u001b[0m         cmap\u001b[38;5;241m=\u001b[39mcmap,\n\u001b[1;32m   3346\u001b[0m         norm\u001b[38;5;241m=\u001b[39mnorm,\n\u001b[1;32m   3347\u001b[0m         aspect\u001b[38;5;241m=\u001b[39maspect,\n\u001b[1;32m   3348\u001b[0m         interpolation\u001b[38;5;241m=\u001b[39minterpolation,\n\u001b[1;32m   3349\u001b[0m         alpha\u001b[38;5;241m=\u001b[39malpha,\n\u001b[1;32m   3350\u001b[0m         vmin\u001b[38;5;241m=\u001b[39mvmin,\n\u001b[1;32m   3351\u001b[0m         vmax\u001b[38;5;241m=\u001b[39mvmax,\n\u001b[1;32m   3352\u001b[0m         origin\u001b[38;5;241m=\u001b[39morigin,\n\u001b[1;32m   3353\u001b[0m         extent\u001b[38;5;241m=\u001b[39mextent,\n\u001b[1;32m   3354\u001b[0m         interpolation_stage\u001b[38;5;241m=\u001b[39minterpolation_stage,\n\u001b[1;32m   3355\u001b[0m         filternorm\u001b[38;5;241m=\u001b[39mfilternorm,\n\u001b[1;32m   3356\u001b[0m         filterrad\u001b[38;5;241m=\u001b[39mfilterrad,\n\u001b[1;32m   3357\u001b[0m         resample\u001b[38;5;241m=\u001b[39mresample,\n\u001b[1;32m   3358\u001b[0m         url\u001b[38;5;241m=\u001b[39murl,\n\u001b[1;32m   3359\u001b[0m         \u001b[38;5;241m*\u001b[39m\u001b[38;5;241m*\u001b[39m({\u001b[38;5;124m\"\u001b[39m\u001b[38;5;124mdata\u001b[39m\u001b[38;5;124m\"\u001b[39m: data} \u001b[38;5;28;01mif\u001b[39;00m data \u001b[38;5;129;01mis\u001b[39;00m \u001b[38;5;129;01mnot\u001b[39;00m \u001b[38;5;28;01mNone\u001b[39;00m \u001b[38;5;28;01melse\u001b[39;00m {}),\n\u001b[1;32m   3360\u001b[0m         \u001b[38;5;241m*\u001b[39m\u001b[38;5;241m*\u001b[39mkwargs,\n\u001b[1;32m   3361\u001b[0m     )\n\u001b[1;32m   3362\u001b[0m     sci(__ret)\n\u001b[1;32m   3363\u001b[0m     \u001b[38;5;28;01mreturn\u001b[39;00m __ret\n",
      "File \u001b[0;32m~/Desktop/projects/UTTT/.venv/lib/python3.11/site-packages/matplotlib/pyplot.py:2525\u001b[0m, in \u001b[0;36mgca\u001b[0;34m()\u001b[0m\n\u001b[1;32m   2523\u001b[0m \u001b[38;5;129m@_copy_docstring_and_deprecators\u001b[39m(Figure\u001b[38;5;241m.\u001b[39mgca)\n\u001b[1;32m   2524\u001b[0m \u001b[38;5;28;01mdef\u001b[39;00m \u001b[38;5;21mgca\u001b[39m() \u001b[38;5;241m-\u001b[39m\u001b[38;5;241m>\u001b[39m Axes:\n\u001b[0;32m-> 2525\u001b[0m     \u001b[38;5;28;01mreturn\u001b[39;00m \u001b[43mgcf\u001b[49m\u001b[43m(\u001b[49m\u001b[43m)\u001b[49m\u001b[38;5;241;43m.\u001b[39;49m\u001b[43mgca\u001b[49m\u001b[43m(\u001b[49m\u001b[43m)\u001b[49m\n",
      "File \u001b[0;32m~/Desktop/projects/UTTT/.venv/lib/python3.11/site-packages/matplotlib/figure.py:1658\u001b[0m, in \u001b[0;36mFigureBase.gca\u001b[0;34m(self)\u001b[0m\n\u001b[1;32m   1648\u001b[0m \u001b[38;5;250m\u001b[39m\u001b[38;5;124;03m\"\"\"\u001b[39;00m\n\u001b[1;32m   1649\u001b[0m \u001b[38;5;124;03mGet the current Axes.\u001b[39;00m\n\u001b[1;32m   1650\u001b[0m \n\u001b[0;32m   (...)\u001b[0m\n\u001b[1;32m   1655\u001b[0m \u001b[38;5;124;03mwhether `.pyplot.get_fignums()` is empty.)\u001b[39;00m\n\u001b[1;32m   1656\u001b[0m \u001b[38;5;124;03m\"\"\"\u001b[39;00m\n\u001b[1;32m   1657\u001b[0m ax \u001b[38;5;241m=\u001b[39m \u001b[38;5;28mself\u001b[39m\u001b[38;5;241m.\u001b[39m_axstack\u001b[38;5;241m.\u001b[39mcurrent()\n\u001b[0;32m-> 1658\u001b[0m \u001b[38;5;28;01mreturn\u001b[39;00m ax \u001b[38;5;28;01mif\u001b[39;00m ax \u001b[38;5;129;01mis\u001b[39;00m \u001b[38;5;129;01mnot\u001b[39;00m \u001b[38;5;28;01mNone\u001b[39;00m \u001b[38;5;28;01melse\u001b[39;00m \u001b[38;5;28;43mself\u001b[39;49m\u001b[38;5;241;43m.\u001b[39;49m\u001b[43madd_subplot\u001b[49m\u001b[43m(\u001b[49m\u001b[43m)\u001b[49m\n",
      "File \u001b[0;32m~/Desktop/projects/UTTT/.venv/lib/python3.11/site-packages/matplotlib/figure.py:782\u001b[0m, in \u001b[0;36mFigureBase.add_subplot\u001b[0;34m(self, *args, **kwargs)\u001b[0m\n\u001b[1;32m    780\u001b[0m         args \u001b[38;5;241m=\u001b[39m \u001b[38;5;28mtuple\u001b[39m(\u001b[38;5;28mmap\u001b[39m(\u001b[38;5;28mint\u001b[39m, \u001b[38;5;28mstr\u001b[39m(args[\u001b[38;5;241m0\u001b[39m])))\n\u001b[1;32m    781\u001b[0m     projection_class, pkw \u001b[38;5;241m=\u001b[39m \u001b[38;5;28mself\u001b[39m\u001b[38;5;241m.\u001b[39m_process_projection_requirements(\u001b[38;5;241m*\u001b[39m\u001b[38;5;241m*\u001b[39mkwargs)\n\u001b[0;32m--> 782\u001b[0m     ax \u001b[38;5;241m=\u001b[39m \u001b[43mprojection_class\u001b[49m\u001b[43m(\u001b[49m\u001b[38;5;28;43mself\u001b[39;49m\u001b[43m,\u001b[49m\u001b[43m \u001b[49m\u001b[38;5;241;43m*\u001b[39;49m\u001b[43margs\u001b[49m\u001b[43m,\u001b[49m\u001b[43m \u001b[49m\u001b[38;5;241;43m*\u001b[39;49m\u001b[38;5;241;43m*\u001b[39;49m\u001b[43mpkw\u001b[49m\u001b[43m)\u001b[49m\n\u001b[1;32m    783\u001b[0m     key \u001b[38;5;241m=\u001b[39m (projection_class, pkw)\n\u001b[1;32m    784\u001b[0m \u001b[38;5;28;01mreturn\u001b[39;00m \u001b[38;5;28mself\u001b[39m\u001b[38;5;241m.\u001b[39m_add_axes_internal(ax, key)\n",
      "File \u001b[0;32m~/Desktop/projects/UTTT/.venv/lib/python3.11/site-packages/matplotlib/axes/_base.py:678\u001b[0m, in \u001b[0;36m_AxesBase.__init__\u001b[0;34m(self, fig, facecolor, frameon, sharex, sharey, label, xscale, yscale, box_aspect, *args, **kwargs)\u001b[0m\n\u001b[1;32m    675\u001b[0m \u001b[38;5;28mself\u001b[39m\u001b[38;5;241m.\u001b[39mset_axisbelow(mpl\u001b[38;5;241m.\u001b[39mrcParams[\u001b[38;5;124m'\u001b[39m\u001b[38;5;124maxes.axisbelow\u001b[39m\u001b[38;5;124m'\u001b[39m])\n\u001b[1;32m    677\u001b[0m \u001b[38;5;28mself\u001b[39m\u001b[38;5;241m.\u001b[39m_rasterization_zorder \u001b[38;5;241m=\u001b[39m \u001b[38;5;28;01mNone\u001b[39;00m\n\u001b[0;32m--> 678\u001b[0m \u001b[38;5;28;43mself\u001b[39;49m\u001b[38;5;241;43m.\u001b[39;49m\u001b[43mclear\u001b[49m\u001b[43m(\u001b[49m\u001b[43m)\u001b[49m\n\u001b[1;32m    680\u001b[0m \u001b[38;5;66;03m# funcs used to format x and y - fall back on major formatters\u001b[39;00m\n\u001b[1;32m    681\u001b[0m \u001b[38;5;28mself\u001b[39m\u001b[38;5;241m.\u001b[39mfmt_xdata \u001b[38;5;241m=\u001b[39m \u001b[38;5;28;01mNone\u001b[39;00m\n",
      "File \u001b[0;32m~/Desktop/projects/UTTT/.venv/lib/python3.11/site-packages/matplotlib/axes/_base.py:1388\u001b[0m, in \u001b[0;36m_AxesBase.clear\u001b[0;34m(self)\u001b[0m\n\u001b[1;32m   1386\u001b[0m     \u001b[38;5;28mself\u001b[39m\u001b[38;5;241m.\u001b[39mcla()\n\u001b[1;32m   1387\u001b[0m \u001b[38;5;28;01melse\u001b[39;00m:\n\u001b[0;32m-> 1388\u001b[0m     \u001b[38;5;28;43mself\u001b[39;49m\u001b[38;5;241;43m.\u001b[39;49m\u001b[43m__clear\u001b[49m\u001b[43m(\u001b[49m\u001b[43m)\u001b[49m\n",
      "File \u001b[0;32m~/Desktop/projects/UTTT/.venv/lib/python3.11/site-packages/matplotlib/axes/_base.py:1304\u001b[0m, in \u001b[0;36m_AxesBase.__clear\u001b[0;34m(self)\u001b[0m\n\u001b[1;32m   1301\u001b[0m \u001b[38;5;28mself\u001b[39m\u001b[38;5;241m.\u001b[39mlegend_ \u001b[38;5;241m=\u001b[39m \u001b[38;5;28;01mNone\u001b[39;00m\n\u001b[1;32m   1302\u001b[0m \u001b[38;5;28mself\u001b[39m\u001b[38;5;241m.\u001b[39mcontainers \u001b[38;5;241m=\u001b[39m []\n\u001b[0;32m-> 1304\u001b[0m \u001b[38;5;28;43mself\u001b[39;49m\u001b[38;5;241;43m.\u001b[39;49m\u001b[43mgrid\u001b[49m\u001b[43m(\u001b[49m\u001b[38;5;28;43;01mFalse\u001b[39;49;00m\u001b[43m)\u001b[49m  \u001b[38;5;66;03m# Disable grid on init to use rcParameter\u001b[39;00m\n\u001b[1;32m   1305\u001b[0m \u001b[38;5;28mself\u001b[39m\u001b[38;5;241m.\u001b[39mgrid(\u001b[38;5;28mself\u001b[39m\u001b[38;5;241m.\u001b[39m_gridOn, which\u001b[38;5;241m=\u001b[39mmpl\u001b[38;5;241m.\u001b[39mrcParams[\u001b[38;5;124m'\u001b[39m\u001b[38;5;124maxes.grid.which\u001b[39m\u001b[38;5;124m'\u001b[39m],\n\u001b[1;32m   1306\u001b[0m           axis\u001b[38;5;241m=\u001b[39mmpl\u001b[38;5;241m.\u001b[39mrcParams[\u001b[38;5;124m'\u001b[39m\u001b[38;5;124maxes.grid.axis\u001b[39m\u001b[38;5;124m'\u001b[39m])\n\u001b[1;32m   1307\u001b[0m props \u001b[38;5;241m=\u001b[39m font_manager\u001b[38;5;241m.\u001b[39mFontProperties(\n\u001b[1;32m   1308\u001b[0m     size\u001b[38;5;241m=\u001b[39mmpl\u001b[38;5;241m.\u001b[39mrcParams[\u001b[38;5;124m'\u001b[39m\u001b[38;5;124maxes.titlesize\u001b[39m\u001b[38;5;124m'\u001b[39m],\n\u001b[1;32m   1309\u001b[0m     weight\u001b[38;5;241m=\u001b[39mmpl\u001b[38;5;241m.\u001b[39mrcParams[\u001b[38;5;124m'\u001b[39m\u001b[38;5;124maxes.titleweight\u001b[39m\u001b[38;5;124m'\u001b[39m])\n",
      "File \u001b[0;32m~/Desktop/projects/UTTT/.venv/lib/python3.11/site-packages/matplotlib/axes/_base.py:3196\u001b[0m, in \u001b[0;36m_AxesBase.grid\u001b[0;34m(self, visible, which, axis, **kwargs)\u001b[0m\n\u001b[1;32m   3194\u001b[0m _api\u001b[38;5;241m.\u001b[39mcheck_in_list([\u001b[38;5;124m'\u001b[39m\u001b[38;5;124mx\u001b[39m\u001b[38;5;124m'\u001b[39m, \u001b[38;5;124m'\u001b[39m\u001b[38;5;124my\u001b[39m\u001b[38;5;124m'\u001b[39m, \u001b[38;5;124m'\u001b[39m\u001b[38;5;124mboth\u001b[39m\u001b[38;5;124m'\u001b[39m], axis\u001b[38;5;241m=\u001b[39maxis)\n\u001b[1;32m   3195\u001b[0m \u001b[38;5;28;01mif\u001b[39;00m axis \u001b[38;5;129;01min\u001b[39;00m [\u001b[38;5;124m'\u001b[39m\u001b[38;5;124mx\u001b[39m\u001b[38;5;124m'\u001b[39m, \u001b[38;5;124m'\u001b[39m\u001b[38;5;124mboth\u001b[39m\u001b[38;5;124m'\u001b[39m]:\n\u001b[0;32m-> 3196\u001b[0m     \u001b[38;5;28;43mself\u001b[39;49m\u001b[38;5;241;43m.\u001b[39;49m\u001b[43mxaxis\u001b[49m\u001b[38;5;241;43m.\u001b[39;49m\u001b[43mgrid\u001b[49m\u001b[43m(\u001b[49m\u001b[43mvisible\u001b[49m\u001b[43m,\u001b[49m\u001b[43m \u001b[49m\u001b[43mwhich\u001b[49m\u001b[38;5;241;43m=\u001b[39;49m\u001b[43mwhich\u001b[49m\u001b[43m,\u001b[49m\u001b[43m \u001b[49m\u001b[38;5;241;43m*\u001b[39;49m\u001b[38;5;241;43m*\u001b[39;49m\u001b[43mkwargs\u001b[49m\u001b[43m)\u001b[49m\n\u001b[1;32m   3197\u001b[0m \u001b[38;5;28;01mif\u001b[39;00m axis \u001b[38;5;129;01min\u001b[39;00m [\u001b[38;5;124m'\u001b[39m\u001b[38;5;124my\u001b[39m\u001b[38;5;124m'\u001b[39m, \u001b[38;5;124m'\u001b[39m\u001b[38;5;124mboth\u001b[39m\u001b[38;5;124m'\u001b[39m]:\n\u001b[1;32m   3198\u001b[0m     \u001b[38;5;28mself\u001b[39m\u001b[38;5;241m.\u001b[39myaxis\u001b[38;5;241m.\u001b[39mgrid(visible, which\u001b[38;5;241m=\u001b[39mwhich, \u001b[38;5;241m*\u001b[39m\u001b[38;5;241m*\u001b[39mkwargs)\n",
      "File \u001b[0;32m~/Desktop/projects/UTTT/.venv/lib/python3.11/site-packages/matplotlib/axis.py:1697\u001b[0m, in \u001b[0;36mAxis.grid\u001b[0;34m(self, visible, which, **kwargs)\u001b[0m\n\u001b[1;32m   1694\u001b[0m \u001b[38;5;28;01mif\u001b[39;00m which \u001b[38;5;129;01min\u001b[39;00m [\u001b[38;5;124m'\u001b[39m\u001b[38;5;124mmajor\u001b[39m\u001b[38;5;124m'\u001b[39m, \u001b[38;5;124m'\u001b[39m\u001b[38;5;124mboth\u001b[39m\u001b[38;5;124m'\u001b[39m]:\n\u001b[1;32m   1695\u001b[0m     gridkw[\u001b[38;5;124m'\u001b[39m\u001b[38;5;124mgridOn\u001b[39m\u001b[38;5;124m'\u001b[39m] \u001b[38;5;241m=\u001b[39m (\u001b[38;5;129;01mnot\u001b[39;00m \u001b[38;5;28mself\u001b[39m\u001b[38;5;241m.\u001b[39m_major_tick_kw[\u001b[38;5;124m'\u001b[39m\u001b[38;5;124mgridOn\u001b[39m\u001b[38;5;124m'\u001b[39m]\n\u001b[1;32m   1696\u001b[0m                         \u001b[38;5;28;01mif\u001b[39;00m visible \u001b[38;5;129;01mis\u001b[39;00m \u001b[38;5;28;01mNone\u001b[39;00m \u001b[38;5;28;01melse\u001b[39;00m visible)\n\u001b[0;32m-> 1697\u001b[0m     \u001b[38;5;28;43mself\u001b[39;49m\u001b[38;5;241;43m.\u001b[39;49m\u001b[43mset_tick_params\u001b[49m\u001b[43m(\u001b[49m\u001b[43mwhich\u001b[49m\u001b[38;5;241;43m=\u001b[39;49m\u001b[38;5;124;43m'\u001b[39;49m\u001b[38;5;124;43mmajor\u001b[39;49m\u001b[38;5;124;43m'\u001b[39;49m\u001b[43m,\u001b[49m\u001b[43m \u001b[49m\u001b[38;5;241;43m*\u001b[39;49m\u001b[38;5;241;43m*\u001b[39;49m\u001b[43mgridkw\u001b[49m\u001b[43m)\u001b[49m\n\u001b[1;32m   1698\u001b[0m \u001b[38;5;28mself\u001b[39m\u001b[38;5;241m.\u001b[39mstale \u001b[38;5;241m=\u001b[39m \u001b[38;5;28;01mTrue\u001b[39;00m\n",
      "File \u001b[0;32m~/Desktop/projects/UTTT/.venv/lib/python3.11/site-packages/matplotlib/axis.py:973\u001b[0m, in \u001b[0;36mAxis.set_tick_params\u001b[0;34m(self, which, reset, **kwargs)\u001b[0m\n\u001b[1;32m    971\u001b[0m \u001b[38;5;28;01mif\u001b[39;00m which \u001b[38;5;129;01min\u001b[39;00m [\u001b[38;5;124m'\u001b[39m\u001b[38;5;124mmajor\u001b[39m\u001b[38;5;124m'\u001b[39m, \u001b[38;5;124m'\u001b[39m\u001b[38;5;124mboth\u001b[39m\u001b[38;5;124m'\u001b[39m]:\n\u001b[1;32m    972\u001b[0m     \u001b[38;5;28mself\u001b[39m\u001b[38;5;241m.\u001b[39m_major_tick_kw\u001b[38;5;241m.\u001b[39mupdate(kwtrans)\n\u001b[0;32m--> 973\u001b[0m     \u001b[38;5;28;01mfor\u001b[39;00m tick \u001b[38;5;129;01min\u001b[39;00m \u001b[38;5;28;43mself\u001b[39;49m\u001b[38;5;241;43m.\u001b[39;49m\u001b[43mmajorTicks\u001b[49m:\n\u001b[1;32m    974\u001b[0m         tick\u001b[38;5;241m.\u001b[39m_apply_params(\u001b[38;5;241m*\u001b[39m\u001b[38;5;241m*\u001b[39mkwtrans)\n\u001b[1;32m    975\u001b[0m \u001b[38;5;28;01mif\u001b[39;00m which \u001b[38;5;129;01min\u001b[39;00m [\u001b[38;5;124m'\u001b[39m\u001b[38;5;124mminor\u001b[39m\u001b[38;5;124m'\u001b[39m, \u001b[38;5;124m'\u001b[39m\u001b[38;5;124mboth\u001b[39m\u001b[38;5;124m'\u001b[39m]:\n",
      "File \u001b[0;32m~/Desktop/projects/UTTT/.venv/lib/python3.11/site-packages/matplotlib/axis.py:586\u001b[0m, in \u001b[0;36m_LazyTickList.__get__\u001b[0;34m(self, instance, owner)\u001b[0m\n\u001b[1;32m    584\u001b[0m \u001b[38;5;28;01mif\u001b[39;00m \u001b[38;5;28mself\u001b[39m\u001b[38;5;241m.\u001b[39m_major:\n\u001b[1;32m    585\u001b[0m     instance\u001b[38;5;241m.\u001b[39mmajorTicks \u001b[38;5;241m=\u001b[39m []\n\u001b[0;32m--> 586\u001b[0m     tick \u001b[38;5;241m=\u001b[39m \u001b[43minstance\u001b[49m\u001b[38;5;241;43m.\u001b[39;49m\u001b[43m_get_tick\u001b[49m\u001b[43m(\u001b[49m\u001b[43mmajor\u001b[49m\u001b[38;5;241;43m=\u001b[39;49m\u001b[38;5;28;43;01mTrue\u001b[39;49;00m\u001b[43m)\u001b[49m\n\u001b[1;32m    587\u001b[0m     instance\u001b[38;5;241m.\u001b[39mmajorTicks\u001b[38;5;241m.\u001b[39mappend(tick)\n\u001b[1;32m    588\u001b[0m     \u001b[38;5;28;01mreturn\u001b[39;00m instance\u001b[38;5;241m.\u001b[39mmajorTicks\n",
      "File \u001b[0;32m~/Desktop/projects/UTTT/.venv/lib/python3.11/site-packages/matplotlib/axis.py:1562\u001b[0m, in \u001b[0;36mAxis._get_tick\u001b[0;34m(self, major)\u001b[0m\n\u001b[1;32m   1558\u001b[0m     \u001b[38;5;28;01mraise\u001b[39;00m \u001b[38;5;167;01mNotImplementedError\u001b[39;00m(\n\u001b[1;32m   1559\u001b[0m         \u001b[38;5;124mf\u001b[39m\u001b[38;5;124m\"\u001b[39m\u001b[38;5;124mThe Axis subclass \u001b[39m\u001b[38;5;132;01m{\u001b[39;00m\u001b[38;5;28mself\u001b[39m\u001b[38;5;241m.\u001b[39m\u001b[38;5;18m__class__\u001b[39m\u001b[38;5;241m.\u001b[39m\u001b[38;5;18m__name__\u001b[39m\u001b[38;5;132;01m}\u001b[39;00m\u001b[38;5;124m must define \u001b[39m\u001b[38;5;124m\"\u001b[39m\n\u001b[1;32m   1560\u001b[0m         \u001b[38;5;124m\"\u001b[39m\u001b[38;5;124m_tick_class or reimplement _get_tick()\u001b[39m\u001b[38;5;124m\"\u001b[39m)\n\u001b[1;32m   1561\u001b[0m tick_kw \u001b[38;5;241m=\u001b[39m \u001b[38;5;28mself\u001b[39m\u001b[38;5;241m.\u001b[39m_major_tick_kw \u001b[38;5;28;01mif\u001b[39;00m major \u001b[38;5;28;01melse\u001b[39;00m \u001b[38;5;28mself\u001b[39m\u001b[38;5;241m.\u001b[39m_minor_tick_kw\n\u001b[0;32m-> 1562\u001b[0m \u001b[38;5;28;01mreturn\u001b[39;00m \u001b[38;5;28;43mself\u001b[39;49m\u001b[38;5;241;43m.\u001b[39;49m\u001b[43m_tick_class\u001b[49m\u001b[43m(\u001b[49m\u001b[38;5;28;43mself\u001b[39;49m\u001b[38;5;241;43m.\u001b[39;49m\u001b[43maxes\u001b[49m\u001b[43m,\u001b[49m\u001b[43m \u001b[49m\u001b[38;5;241;43m0\u001b[39;49m\u001b[43m,\u001b[49m\u001b[43m \u001b[49m\u001b[43mmajor\u001b[49m\u001b[38;5;241;43m=\u001b[39;49m\u001b[43mmajor\u001b[49m\u001b[43m,\u001b[49m\u001b[43m \u001b[49m\u001b[38;5;241;43m*\u001b[39;49m\u001b[38;5;241;43m*\u001b[39;49m\u001b[43mtick_kw\u001b[49m\u001b[43m)\u001b[49m\n",
      "File \u001b[0;32m~/Desktop/projects/UTTT/.venv/lib/python3.11/site-packages/matplotlib/axis.py:413\u001b[0m, in \u001b[0;36mXTick.__init__\u001b[0;34m(self, *args, **kwargs)\u001b[0m\n\u001b[1;32m    412\u001b[0m \u001b[38;5;28;01mdef\u001b[39;00m \u001b[38;5;21m__init__\u001b[39m(\u001b[38;5;28mself\u001b[39m, \u001b[38;5;241m*\u001b[39margs, \u001b[38;5;241m*\u001b[39m\u001b[38;5;241m*\u001b[39mkwargs):\n\u001b[0;32m--> 413\u001b[0m     \u001b[38;5;28;43msuper\u001b[39;49m\u001b[43m(\u001b[49m\u001b[43m)\u001b[49m\u001b[38;5;241;43m.\u001b[39;49m\u001b[38;5;21;43m__init__\u001b[39;49m\u001b[43m(\u001b[49m\u001b[38;5;241;43m*\u001b[39;49m\u001b[43margs\u001b[49m\u001b[43m,\u001b[49m\u001b[43m \u001b[49m\u001b[38;5;241;43m*\u001b[39;49m\u001b[38;5;241;43m*\u001b[39;49m\u001b[43mkwargs\u001b[49m\u001b[43m)\u001b[49m\n\u001b[1;32m    414\u001b[0m     \u001b[38;5;66;03m# x in data coords, y in axes coords\u001b[39;00m\n\u001b[1;32m    415\u001b[0m     ax \u001b[38;5;241m=\u001b[39m \u001b[38;5;28mself\u001b[39m\u001b[38;5;241m.\u001b[39maxes\n",
      "File \u001b[0;32m~/Desktop/projects/UTTT/.venv/lib/python3.11/site-packages/matplotlib/axis.py:170\u001b[0m, in \u001b[0;36mTick.__init__\u001b[0;34m(self, axes, loc, size, width, color, tickdir, pad, labelsize, labelcolor, labelfontfamily, zorder, gridOn, tick1On, tick2On, label1On, label2On, major, labelrotation, grid_color, grid_linestyle, grid_linewidth, grid_alpha, **kwargs)\u001b[0m\n\u001b[1;32m    160\u001b[0m \u001b[38;5;28mself\u001b[39m\u001b[38;5;241m.\u001b[39mtick1line \u001b[38;5;241m=\u001b[39m mlines\u001b[38;5;241m.\u001b[39mLine2D(\n\u001b[1;32m    161\u001b[0m     [], [],\n\u001b[1;32m    162\u001b[0m     color\u001b[38;5;241m=\u001b[39mcolor, linestyle\u001b[38;5;241m=\u001b[39m\u001b[38;5;124m\"\u001b[39m\u001b[38;5;124mnone\u001b[39m\u001b[38;5;124m\"\u001b[39m, zorder\u001b[38;5;241m=\u001b[39mzorder, visible\u001b[38;5;241m=\u001b[39mtick1On,\n\u001b[1;32m    163\u001b[0m     markeredgecolor\u001b[38;5;241m=\u001b[39mcolor, markersize\u001b[38;5;241m=\u001b[39msize, markeredgewidth\u001b[38;5;241m=\u001b[39mwidth,\n\u001b[1;32m    164\u001b[0m )\n\u001b[1;32m    165\u001b[0m \u001b[38;5;28mself\u001b[39m\u001b[38;5;241m.\u001b[39mtick2line \u001b[38;5;241m=\u001b[39m mlines\u001b[38;5;241m.\u001b[39mLine2D(\n\u001b[1;32m    166\u001b[0m     [], [],\n\u001b[1;32m    167\u001b[0m     color\u001b[38;5;241m=\u001b[39mcolor, linestyle\u001b[38;5;241m=\u001b[39m\u001b[38;5;124m\"\u001b[39m\u001b[38;5;124mnone\u001b[39m\u001b[38;5;124m\"\u001b[39m, zorder\u001b[38;5;241m=\u001b[39mzorder, visible\u001b[38;5;241m=\u001b[39mtick2On,\n\u001b[1;32m    168\u001b[0m     markeredgecolor\u001b[38;5;241m=\u001b[39mcolor, markersize\u001b[38;5;241m=\u001b[39msize, markeredgewidth\u001b[38;5;241m=\u001b[39mwidth,\n\u001b[1;32m    169\u001b[0m )\n\u001b[0;32m--> 170\u001b[0m \u001b[38;5;28mself\u001b[39m\u001b[38;5;241m.\u001b[39mgridline \u001b[38;5;241m=\u001b[39m \u001b[43mmlines\u001b[49m\u001b[38;5;241;43m.\u001b[39;49m\u001b[43mLine2D\u001b[49m\u001b[43m(\u001b[49m\n\u001b[1;32m    171\u001b[0m \u001b[43m    \u001b[49m\u001b[43m[\u001b[49m\u001b[43m]\u001b[49m\u001b[43m,\u001b[49m\u001b[43m \u001b[49m\u001b[43m[\u001b[49m\u001b[43m]\u001b[49m\u001b[43m,\u001b[49m\n\u001b[1;32m    172\u001b[0m \u001b[43m    \u001b[49m\u001b[43mcolor\u001b[49m\u001b[38;5;241;43m=\u001b[39;49m\u001b[43mgrid_color\u001b[49m\u001b[43m,\u001b[49m\u001b[43m \u001b[49m\u001b[43malpha\u001b[49m\u001b[38;5;241;43m=\u001b[39;49m\u001b[43mgrid_alpha\u001b[49m\u001b[43m,\u001b[49m\u001b[43m \u001b[49m\u001b[43mvisible\u001b[49m\u001b[38;5;241;43m=\u001b[39;49m\u001b[43mgridOn\u001b[49m\u001b[43m,\u001b[49m\n\u001b[1;32m    173\u001b[0m \u001b[43m    \u001b[49m\u001b[43mlinestyle\u001b[49m\u001b[38;5;241;43m=\u001b[39;49m\u001b[43mgrid_linestyle\u001b[49m\u001b[43m,\u001b[49m\u001b[43m \u001b[49m\u001b[43mlinewidth\u001b[49m\u001b[38;5;241;43m=\u001b[39;49m\u001b[43mgrid_linewidth\u001b[49m\u001b[43m,\u001b[49m\u001b[43m \u001b[49m\u001b[43mmarker\u001b[49m\u001b[38;5;241;43m=\u001b[39;49m\u001b[38;5;124;43m\"\u001b[39;49m\u001b[38;5;124;43m\"\u001b[39;49m\u001b[43m,\u001b[49m\n\u001b[1;32m    174\u001b[0m \u001b[43m    \u001b[49m\u001b[38;5;241;43m*\u001b[39;49m\u001b[38;5;241;43m*\u001b[39;49m\u001b[43mgrid_kw\u001b[49m\u001b[43m,\u001b[49m\n\u001b[1;32m    175\u001b[0m \u001b[43m\u001b[49m\u001b[43m)\u001b[49m\n\u001b[1;32m    176\u001b[0m \u001b[38;5;28mself\u001b[39m\u001b[38;5;241m.\u001b[39mgridline\u001b[38;5;241m.\u001b[39mget_path()\u001b[38;5;241m.\u001b[39m_interpolation_steps \u001b[38;5;241m=\u001b[39m \\\n\u001b[1;32m    177\u001b[0m     GRIDLINE_INTERPOLATION_STEPS\n\u001b[1;32m    178\u001b[0m \u001b[38;5;28mself\u001b[39m\u001b[38;5;241m.\u001b[39mlabel1 \u001b[38;5;241m=\u001b[39m mtext\u001b[38;5;241m.\u001b[39mText(\n\u001b[1;32m    179\u001b[0m     np\u001b[38;5;241m.\u001b[39mnan, np\u001b[38;5;241m.\u001b[39mnan,\n\u001b[1;32m    180\u001b[0m     fontsize\u001b[38;5;241m=\u001b[39mlabelsize, color\u001b[38;5;241m=\u001b[39mlabelcolor, visible\u001b[38;5;241m=\u001b[39mlabel1On,\n\u001b[1;32m    181\u001b[0m     fontfamily\u001b[38;5;241m=\u001b[39mlabelfontfamily, rotation\u001b[38;5;241m=\u001b[39m\u001b[38;5;28mself\u001b[39m\u001b[38;5;241m.\u001b[39m_labelrotation[\u001b[38;5;241m1\u001b[39m])\n",
      "File \u001b[0;32m~/Desktop/projects/UTTT/.venv/lib/python3.11/site-packages/matplotlib/lines.py:287\u001b[0m, in \u001b[0;36mLine2D.__init__\u001b[0;34m(self, xdata, ydata, linewidth, linestyle, color, gapcolor, marker, markersize, markeredgewidth, markeredgecolor, markerfacecolor, markerfacecoloralt, fillstyle, antialiased, dash_capstyle, solid_capstyle, dash_joinstyle, solid_joinstyle, pickradius, drawstyle, markevery, **kwargs)\u001b[0m\n\u001b[1;32m    283\u001b[0m     \u001b[38;5;28;01melse\u001b[39;00m:\n\u001b[1;32m    284\u001b[0m         \u001b[38;5;28;01mreturn\u001b[39;00m \u001b[38;5;124m\"\u001b[39m\u001b[38;5;124mLine2D(\u001b[39m\u001b[38;5;132;01m%s\u001b[39;00m\u001b[38;5;124m)\u001b[39m\u001b[38;5;124m\"\u001b[39m \u001b[38;5;241m%\u001b[39m \u001b[38;5;124m\"\u001b[39m\u001b[38;5;124m,\u001b[39m\u001b[38;5;124m\"\u001b[39m\u001b[38;5;241m.\u001b[39mjoin(\n\u001b[1;32m    285\u001b[0m             \u001b[38;5;28mmap\u001b[39m(\u001b[38;5;124m\"\u001b[39m\u001b[38;5;124m(\u001b[39m\u001b[38;5;132;01m{:g}\u001b[39;00m\u001b[38;5;124m,\u001b[39m\u001b[38;5;132;01m{:g}\u001b[39;00m\u001b[38;5;124m)\u001b[39m\u001b[38;5;124m\"\u001b[39m\u001b[38;5;241m.\u001b[39mformat, \u001b[38;5;28mself\u001b[39m\u001b[38;5;241m.\u001b[39m_x, \u001b[38;5;28mself\u001b[39m\u001b[38;5;241m.\u001b[39m_y))\n\u001b[0;32m--> 287\u001b[0m \u001b[38;5;28;01mdef\u001b[39;00m \u001b[38;5;21m__init__\u001b[39m(\u001b[38;5;28mself\u001b[39m, xdata, ydata, \u001b[38;5;241m*\u001b[39m,\n\u001b[1;32m    288\u001b[0m              linewidth\u001b[38;5;241m=\u001b[39m\u001b[38;5;28;01mNone\u001b[39;00m,  \u001b[38;5;66;03m# all Nones default to rc\u001b[39;00m\n\u001b[1;32m    289\u001b[0m              linestyle\u001b[38;5;241m=\u001b[39m\u001b[38;5;28;01mNone\u001b[39;00m,\n\u001b[1;32m    290\u001b[0m              color\u001b[38;5;241m=\u001b[39m\u001b[38;5;28;01mNone\u001b[39;00m,\n\u001b[1;32m    291\u001b[0m              gapcolor\u001b[38;5;241m=\u001b[39m\u001b[38;5;28;01mNone\u001b[39;00m,\n\u001b[1;32m    292\u001b[0m              marker\u001b[38;5;241m=\u001b[39m\u001b[38;5;28;01mNone\u001b[39;00m,\n\u001b[1;32m    293\u001b[0m              markersize\u001b[38;5;241m=\u001b[39m\u001b[38;5;28;01mNone\u001b[39;00m,\n\u001b[1;32m    294\u001b[0m              markeredgewidth\u001b[38;5;241m=\u001b[39m\u001b[38;5;28;01mNone\u001b[39;00m,\n\u001b[1;32m    295\u001b[0m              markeredgecolor\u001b[38;5;241m=\u001b[39m\u001b[38;5;28;01mNone\u001b[39;00m,\n\u001b[1;32m    296\u001b[0m              markerfacecolor\u001b[38;5;241m=\u001b[39m\u001b[38;5;28;01mNone\u001b[39;00m,\n\u001b[1;32m    297\u001b[0m              markerfacecoloralt\u001b[38;5;241m=\u001b[39m\u001b[38;5;124m'\u001b[39m\u001b[38;5;124mnone\u001b[39m\u001b[38;5;124m'\u001b[39m,\n\u001b[1;32m    298\u001b[0m              fillstyle\u001b[38;5;241m=\u001b[39m\u001b[38;5;28;01mNone\u001b[39;00m,\n\u001b[1;32m    299\u001b[0m              antialiased\u001b[38;5;241m=\u001b[39m\u001b[38;5;28;01mNone\u001b[39;00m,\n\u001b[1;32m    300\u001b[0m              dash_capstyle\u001b[38;5;241m=\u001b[39m\u001b[38;5;28;01mNone\u001b[39;00m,\n\u001b[1;32m    301\u001b[0m              solid_capstyle\u001b[38;5;241m=\u001b[39m\u001b[38;5;28;01mNone\u001b[39;00m,\n\u001b[1;32m    302\u001b[0m              dash_joinstyle\u001b[38;5;241m=\u001b[39m\u001b[38;5;28;01mNone\u001b[39;00m,\n\u001b[1;32m    303\u001b[0m              solid_joinstyle\u001b[38;5;241m=\u001b[39m\u001b[38;5;28;01mNone\u001b[39;00m,\n\u001b[1;32m    304\u001b[0m              pickradius\u001b[38;5;241m=\u001b[39m\u001b[38;5;241m5\u001b[39m,\n\u001b[1;32m    305\u001b[0m              drawstyle\u001b[38;5;241m=\u001b[39m\u001b[38;5;28;01mNone\u001b[39;00m,\n\u001b[1;32m    306\u001b[0m              markevery\u001b[38;5;241m=\u001b[39m\u001b[38;5;28;01mNone\u001b[39;00m,\n\u001b[1;32m    307\u001b[0m              \u001b[38;5;241m*\u001b[39m\u001b[38;5;241m*\u001b[39mkwargs\n\u001b[1;32m    308\u001b[0m              ):\n\u001b[1;32m    309\u001b[0m \u001b[38;5;250m    \u001b[39m\u001b[38;5;124;03m\"\"\"\u001b[39;00m\n\u001b[1;32m    310\u001b[0m \u001b[38;5;124;03m    Create a `.Line2D` instance with *x* and *y* data in sequences of\u001b[39;00m\n\u001b[1;32m    311\u001b[0m \u001b[38;5;124;03m    *xdata*, *ydata*.\u001b[39;00m\n\u001b[0;32m   (...)\u001b[0m\n\u001b[1;32m    320\u001b[0m \n\u001b[1;32m    321\u001b[0m \u001b[38;5;124;03m    \"\"\"\u001b[39;00m\n\u001b[1;32m    322\u001b[0m     \u001b[38;5;28msuper\u001b[39m()\u001b[38;5;241m.\u001b[39m\u001b[38;5;21m__init__\u001b[39m()\n",
      "\u001b[0;31mKeyboardInterrupt\u001b[0m: "
     ]
    },
    {
     "data": {
      "text/plain": [
       "<Figure size 640x480 with 0 Axes>"
      ]
     },
     "metadata": {},
     "output_type": "display_data"
    }
   ],
   "source": [
    "faceoff_sequential(transposition_table(), ab_pruning_ref(), ngames=10, visualize=True)"
   ]
  },
  {
   "cell_type": "code",
   "execution_count": 40,
   "metadata": {},
   "outputs": [
    {
     "name": "stderr",
     "output_type": "stream",
     "text": [
      "100%|██████████| 1000/1000 [02:19<00:00,  7.14it/s]\n"
     ]
    },
    {
     "data": {
      "text/plain": [
       "{'win': 97,\n",
       " 'loss': 823,\n",
       " 'draw': 80,\n",
       " 'elo_diff': -319.7160914235211,\n",
       " 'elo_conf_interval +/-': 28.70981476826327}"
      ]
     },
     "execution_count": 40,
     "metadata": {},
     "output_type": "execute_result"
    }
   ],
   "source": [
    "faceoff_parallel(transposition_table, line_completer_bot, ngames=1000, njobs=-1)"
   ]
  }
 ],
 "metadata": {
  "kernelspec": {
   "display_name": ".venv",
   "language": "python",
   "name": "python3"
  },
  "language_info": {
   "codemirror_mode": {
    "name": "ipython",
    "version": 3
   },
   "file_extension": ".py",
   "mimetype": "text/x-python",
   "name": "python",
   "nbconvert_exporter": "python",
   "pygments_lexer": "ipython3",
   "version": "3.11.7"
  }
 },
 "nbformat": 4,
 "nbformat_minor": 2
}
